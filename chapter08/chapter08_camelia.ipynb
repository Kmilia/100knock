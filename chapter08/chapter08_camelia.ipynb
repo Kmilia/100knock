{
 "cells": [
  {
   "cell_type": "code",
   "execution_count": 26,
   "metadata": {},
   "outputs": [],
   "source": [
    "import json\n",
    "import torch\n",
    "import pandas as pd\n",
    "import numpy as np\n",
    "import torch.nn as nn\n",
    "import torch.utils.data as Data\n",
    "import matplotlib.pyplot as plt\n",
    "\n",
    "from sklearn import metrics\n",
    "from sentence_transformers import SentenceTransformer\n",
    "from torch.nn import functional as F"
   ]
  },
  {
   "cell_type": "markdown",
   "metadata": {},
   "source": [
    "# 70. Generating Features through Word Vector Summation"
   ]
  },
  {
   "cell_type": "code",
   "execution_count": 2,
   "metadata": {},
   "outputs": [
    {
     "data": {
      "application/vnd.jupyter.widget-view+json": {
       "model_id": "5f605189b7304f95a81556ba68cb5ceb",
       "version_major": 2,
       "version_minor": 0
      },
      "text/plain": [
       "Downloading:   0%|          | 0.00/1.18k [00:00<?, ?B/s]"
      ]
     },
     "metadata": {},
     "output_type": "display_data"
    },
    {
     "data": {
      "application/vnd.jupyter.widget-view+json": {
       "model_id": "f788c61aad5c4a8eb7123d574266e0d8",
       "version_major": 2,
       "version_minor": 0
      },
      "text/plain": [
       "Downloading:   0%|          | 0.00/10.2k [00:00<?, ?B/s]"
      ]
     },
     "metadata": {},
     "output_type": "display_data"
    },
    {
     "data": {
      "application/vnd.jupyter.widget-view+json": {
       "model_id": "60a711d5c97b486ca172f0a249638e5c",
       "version_major": 2,
       "version_minor": 0
      },
      "text/plain": [
       "Downloading:   0%|          | 0.00/612 [00:00<?, ?B/s]"
      ]
     },
     "metadata": {},
     "output_type": "display_data"
    },
    {
     "data": {
      "application/vnd.jupyter.widget-view+json": {
       "model_id": "330d926d1f814bbdb112fc953c3a1f82",
       "version_major": 2,
       "version_minor": 0
      },
      "text/plain": [
       "Downloading:   0%|          | 0.00/116 [00:00<?, ?B/s]"
      ]
     },
     "metadata": {},
     "output_type": "display_data"
    },
    {
     "data": {
      "application/vnd.jupyter.widget-view+json": {
       "model_id": "6f39f01cbb494399b678472c8eb8d98c",
       "version_major": 2,
       "version_minor": 0
      },
      "text/plain": [
       "Downloading:   0%|          | 0.00/39.3k [00:00<?, ?B/s]"
      ]
     },
     "metadata": {},
     "output_type": "display_data"
    },
    {
     "data": {
      "application/vnd.jupyter.widget-view+json": {
       "model_id": "81999f4a07fc418ca30326e6f665081e",
       "version_major": 2,
       "version_minor": 0
      },
      "text/plain": [
       "Downloading:   0%|          | 0.00/349 [00:00<?, ?B/s]"
      ]
     },
     "metadata": {},
     "output_type": "display_data"
    },
    {
     "data": {
      "application/vnd.jupyter.widget-view+json": {
       "model_id": "565823f93ccc43d29c307080cb0e2a29",
       "version_major": 2,
       "version_minor": 0
      },
      "text/plain": [
       "Downloading:   0%|          | 0.00/90.9M [00:00<?, ?B/s]"
      ]
     },
     "metadata": {},
     "output_type": "display_data"
    },
    {
     "data": {
      "application/vnd.jupyter.widget-view+json": {
       "model_id": "ba18716ac2bd49edb9f02d3995166e03",
       "version_major": 2,
       "version_minor": 0
      },
      "text/plain": [
       "Downloading:   0%|          | 0.00/53.0 [00:00<?, ?B/s]"
      ]
     },
     "metadata": {},
     "output_type": "display_data"
    },
    {
     "data": {
      "application/vnd.jupyter.widget-view+json": {
       "model_id": "f382b87c31f44bc8ba648a199d2ae871",
       "version_major": 2,
       "version_minor": 0
      },
      "text/plain": [
       "Downloading:   0%|          | 0.00/112 [00:00<?, ?B/s]"
      ]
     },
     "metadata": {},
     "output_type": "display_data"
    },
    {
     "data": {
      "application/vnd.jupyter.widget-view+json": {
       "model_id": "be42fda9c07842c4b671e4e6f8b3dc3b",
       "version_major": 2,
       "version_minor": 0
      },
      "text/plain": [
       "Downloading:   0%|          | 0.00/466k [00:00<?, ?B/s]"
      ]
     },
     "metadata": {},
     "output_type": "display_data"
    },
    {
     "data": {
      "application/vnd.jupyter.widget-view+json": {
       "model_id": "0ca1f4df030149308b692daaac3699d4",
       "version_major": 2,
       "version_minor": 0
      },
      "text/plain": [
       "Downloading:   0%|          | 0.00/350 [00:00<?, ?B/s]"
      ]
     },
     "metadata": {},
     "output_type": "display_data"
    },
    {
     "data": {
      "application/vnd.jupyter.widget-view+json": {
       "model_id": "6169bf35b9a2473997f55ea7d4b1d1e5",
       "version_major": 2,
       "version_minor": 0
      },
      "text/plain": [
       "Downloading:   0%|          | 0.00/13.2k [00:00<?, ?B/s]"
      ]
     },
     "metadata": {},
     "output_type": "display_data"
    },
    {
     "data": {
      "application/vnd.jupyter.widget-view+json": {
       "model_id": "13f47949e496486695c2bb7f225d392a",
       "version_major": 2,
       "version_minor": 0
      },
      "text/plain": [
       "Downloading:   0%|          | 0.00/232k [00:00<?, ?B/s]"
      ]
     },
     "metadata": {},
     "output_type": "display_data"
    },
    {
     "data": {
      "application/vnd.jupyter.widget-view+json": {
       "model_id": "828a2a4b0b1e4291a4334b12eeaabad7",
       "version_major": 2,
       "version_minor": 0
      },
      "text/plain": [
       "Downloading:   0%|          | 0.00/190 [00:00<?, ?B/s]"
      ]
     },
     "metadata": {},
     "output_type": "display_data"
    }
   ],
   "source": [
    "DATA_PATH = \"../chapter06/text/\"\n",
    "MODEL = SentenceTransformer('all-MiniLM-L6-v2')\n",
    "CATEGORY_TO_INDEX = {\n",
    "    \"b\" : 0,\n",
    "    \"t\" : 1,\n",
    "    \"e\" : 2,\n",
    "    \"m\" : 3\n",
    "}\n",
    "\n",
    "def _generate_features(data_type: str) -> list:\n",
    "    dataset = pd.read_csv(f\"{DATA_PATH}{data_type}.txt\", sep=\"\\t\")\n",
    "    df = pd.DataFrame(dataset)\n",
    "    y = list(df[df.columns[1]].map(CATEGORY_TO_INDEX))\n",
    "    sentences = list(df[df.columns[0]])\n",
    "    sentence_embeddings = MODEL.encode(sentences)\n",
    "    x = []\n",
    "    for embedding in sentence_embeddings:\n",
    "        xi = embedding / len(embedding)\n",
    "        x.append(xi)\n",
    "    return x, y\n",
    "\n",
    "x_train, y_train = _generate_features(\"train\")\n",
    "x_valid, y_valid = _generate_features(\"valid\")\n",
    "x_test, y_test = _generate_features(\"test\")"
   ]
  },
  {
   "cell_type": "code",
   "execution_count": 3,
   "metadata": {},
   "outputs": [],
   "source": [
    "def _save_data(name: str, x: list, y: list) -> None:\n",
    "    torch.save(x, f\"data/{name}.feature_matrix.pt\")\n",
    "    torch.save(y, f\"data/{name}.label_vector.pt\")\n",
    "        \n",
    "_save_data(\"train\", x_train, y_train)\n",
    "_save_data(\"valid\", x_valid, y_valid)\n",
    "_save_data(\"test\", x_test, y_test)"
   ]
  },
  {
   "cell_type": "markdown",
   "metadata": {},
   "source": [
    "# 71. Building Single Layer Neural Network"
   ]
  },
  {
   "cell_type": "code",
   "execution_count": 4,
   "metadata": {},
   "outputs": [],
   "source": [
    "def _load_data(name: str) -> list:\n",
    "    x = torch.from_numpy(np.array(torch.load(f\"data/{name}.feature_matrix.pt\")))\n",
    "    y = torch.from_numpy(np.array(torch.load(f\"data/{name}.label_vector.pt\")))\n",
    "    return x, y\n",
    "\n",
    "x_train, y_train = _load_data(\"train\")\n",
    "x_valid, y_valid = _load_data(\"valid\")\n",
    "x_test, y_test = _load_data(\"test\")"
   ]
  },
  {
   "cell_type": "code",
   "execution_count": 5,
   "metadata": {},
   "outputs": [
    {
     "name": "stdout",
     "output_type": "stream",
     "text": [
      "tensor([[-8.7899e-05,  3.6016e-05,  6.6271e-05,  1.6554e-05,  8.1709e-05,\n",
      "         -1.6398e-04, -1.0694e-04,  3.8124e-05, -4.0722e-05,  1.5640e-05,\n",
      "          5.9334e-05,  1.5015e-04,  6.9028e-05,  9.5005e-06, -2.3751e-05,\n",
      "          3.6679e-05, -1.7564e-04, -1.4351e-04, -7.3044e-05,  1.0945e-04,\n",
      "         -2.6269e-04,  9.5159e-06,  2.2117e-04, -4.8098e-05,  2.0771e-04,\n",
      "         -8.2889e-05, -6.5250e-05,  1.1368e-04, -1.1842e-04,  9.0210e-05,\n",
      "          1.4703e-04,  1.0929e-04,  6.9705e-05,  2.2680e-04,  1.0840e-04,\n",
      "         -6.7918e-05,  2.7577e-04, -3.2303e-05,  7.2200e-05,  2.6124e-05,\n",
      "          3.8294e-05, -3.0205e-04,  4.5588e-05,  4.1950e-05,  1.1088e-04,\n",
      "          2.7532e-04,  1.2823e-04, -4.1185e-05, -9.9267e-05,  1.0803e-04,\n",
      "         -2.2030e-04, -9.9785e-07, -7.5704e-05,  2.5365e-04, -1.6787e-04,\n",
      "          8.0811e-05,  3.8581e-05,  4.8124e-06,  1.7912e-04,  6.0507e-05,\n",
      "         -3.1754e-05, -3.6642e-05, -1.9131e-05,  9.5693e-05, -2.5362e-05,\n",
      "          2.9074e-04, -4.6591e-05,  5.9422e-06, -7.8071e-05,  5.9456e-05,\n",
      "          2.2651e-04,  8.7604e-05, -2.0812e-04,  1.9054e-04,  1.4986e-04,\n",
      "         -8.6386e-05,  1.4189e-04, -6.6040e-05,  2.1858e-05,  1.3835e-04,\n",
      "         -1.1584e-04, -6.5866e-05, -9.1113e-05,  1.5219e-04, -1.7787e-04,\n",
      "          1.3283e-04,  7.7096e-05, -1.5461e-04, -9.9024e-05,  1.1576e-05,\n",
      "         -7.7358e-05,  4.6535e-05, -1.2583e-05,  8.0244e-05, -1.4651e-04,\n",
      "         -6.7354e-05, -5.2256e-05,  2.3360e-05, -3.0773e-04,  1.2371e-06,\n",
      "         -9.5205e-05,  1.3619e-04,  1.3072e-04, -1.0421e-04,  1.1560e-04,\n",
      "          6.6893e-05,  1.0821e-04, -6.6740e-05,  7.0843e-05,  1.8709e-04,\n",
      "          2.1517e-04, -1.3327e-04, -1.4173e-04,  1.0162e-04,  9.5714e-05,\n",
      "          9.5669e-06,  4.3365e-05,  4.4836e-06,  7.5389e-05, -1.7467e-04,\n",
      "          1.7944e-04,  8.4622e-05,  7.7340e-05, -1.0642e-05, -2.8316e-06,\n",
      "          1.5600e-04,  1.6559e-05, -7.3421e-36,  4.8308e-06,  4.0724e-05,\n",
      "          9.3581e-05,  7.4323e-05, -3.9190e-05,  3.0312e-05, -2.3409e-04,\n",
      "         -1.1389e-04, -1.2301e-04,  3.6352e-05,  3.2001e-05,  9.1558e-05,\n",
      "          8.7646e-05, -9.8045e-05, -4.5633e-05,  1.2484e-04,  1.5665e-04,\n",
      "          4.8575e-05, -1.3036e-05,  1.5457e-04,  1.6337e-04, -1.2525e-04,\n",
      "          9.6737e-05,  6.4639e-05, -1.9850e-04,  1.9060e-04,  2.0353e-04,\n",
      "         -3.0313e-05, -5.1390e-05,  3.2377e-06, -2.2223e-04,  1.1185e-04,\n",
      "          1.5571e-04, -3.3322e-05,  2.1374e-04, -8.7193e-05,  8.0190e-05,\n",
      "         -5.2569e-05, -4.4857e-05,  7.1675e-06,  5.7516e-05, -4.6410e-06,\n",
      "         -5.8800e-05, -2.7512e-04, -8.2443e-05,  3.4378e-05, -1.3504e-04,\n",
      "          9.0593e-05, -2.5268e-05,  2.2262e-04, -7.5189e-05,  4.7955e-05,\n",
      "         -1.3385e-04,  5.3181e-05, -2.3754e-04, -1.7978e-04, -5.7600e-05,\n",
      "         -8.0131e-05, -1.4759e-04,  5.4711e-06, -5.7512e-05, -6.3447e-05,\n",
      "          1.1692e-04, -2.3370e-04,  1.0876e-04, -1.7529e-05, -1.9972e-05,\n",
      "          1.6668e-04,  1.4748e-04,  1.5664e-04, -5.5077e-07,  5.2173e-07,\n",
      "         -2.5409e-05,  1.8939e-05, -1.2154e-04, -2.0003e-04, -7.6190e-05,\n",
      "          1.5193e-04,  3.0598e-05,  1.7327e-04,  3.0858e-04,  5.8556e-05,\n",
      "         -7.7608e-05, -9.9618e-05, -1.0217e-04,  2.1700e-05, -5.0220e-05,\n",
      "          8.1995e-06, -3.3685e-04,  2.4764e-04, -2.4923e-04,  1.3910e-04,\n",
      "          7.8932e-05,  1.0655e-04, -1.9488e-04,  4.6037e-37, -1.6422e-04,\n",
      "         -4.7177e-05, -1.7605e-04, -1.5702e-04, -3.5950e-06, -1.3126e-04,\n",
      "          1.7768e-05,  9.8878e-05,  1.3665e-05,  1.4827e-04, -1.6951e-04,\n",
      "         -6.6823e-05,  8.0357e-06, -1.2392e-04, -1.1365e-06,  3.1030e-04,\n",
      "          2.1796e-04, -1.1563e-04, -2.9313e-04,  1.1331e-05, -2.3022e-04,\n",
      "          4.1378e-05, -5.9565e-05,  2.7827e-04, -1.5809e-04,  2.6473e-05,\n",
      "          9.0397e-05,  1.3913e-05,  2.3499e-04, -2.5829e-04,  8.6927e-05,\n",
      "          2.8571e-05, -2.4438e-04, -7.2076e-05, -1.6830e-05, -7.6364e-05,\n",
      "         -1.0323e-04,  1.5700e-04,  5.3435e-05, -1.9180e-04, -1.1848e-05,\n",
      "          4.4277e-05, -2.6131e-04, -1.6814e-05, -1.3704e-05,  1.8281e-04,\n",
      "         -3.7943e-05,  4.6693e-05, -3.1090e-04,  1.6718e-04, -5.9771e-05,\n",
      "         -4.0493e-05,  3.5111e-04, -2.8618e-05, -1.2218e-04,  6.6130e-05,\n",
      "          3.6717e-05, -2.5965e-05, -6.0332e-05, -4.8132e-05,  1.0034e-04,\n",
      "         -3.6551e-05, -1.3594e-04, -6.8314e-05,  8.5794e-05, -4.9064e-05,\n",
      "          4.2778e-05, -4.7937e-05, -4.7170e-06, -1.3884e-04, -9.8117e-06,\n",
      "         -2.4379e-04,  1.0391e-04, -2.1535e-04,  3.6737e-05,  3.8931e-06,\n",
      "          5.3285e-05, -2.8350e-05, -4.0426e-06,  1.8267e-04,  1.1298e-04,\n",
      "          6.6058e-05, -1.8295e-04, -1.8017e-04,  5.1419e-05, -5.3406e-05,\n",
      "          1.9150e-04,  1.8856e-04, -1.4763e-04,  6.7762e-05, -6.4093e-06,\n",
      "          7.1930e-06, -2.8403e-04,  2.6794e-05,  1.6697e-04, -5.0922e-11,\n",
      "          1.8629e-04, -3.7754e-05, -1.2713e-04,  1.7238e-04,  8.0645e-05,\n",
      "          1.6011e-04, -5.8410e-05, -4.5370e-05, -1.1660e-04,  8.5659e-05,\n",
      "         -4.6976e-05, -1.3027e-04, -7.5867e-05,  7.9593e-05,  9.2029e-06,\n",
      "         -2.9594e-04, -2.2530e-04, -1.5209e-04, -6.8555e-05,  1.5436e-04,\n",
      "         -1.9217e-04, -1.3004e-04, -1.5441e-04, -4.5329e-05, -1.7765e-04,\n",
      "         -6.9189e-05, -1.6650e-04, -1.6837e-05, -9.8026e-05,  1.9985e-04,\n",
      "          5.9879e-07, -1.3907e-05,  1.2343e-04, -2.1407e-04, -3.3372e-04,\n",
      "          3.1100e-05,  1.4792e-04, -7.5005e-05,  1.9790e-04, -1.7688e-04,\n",
      "          1.6606e-04,  5.2214e-05,  1.1498e-05,  1.3286e-04, -3.5404e-04,\n",
      "          6.2897e-05,  1.3537e-04, -4.6304e-08,  8.6753e-05, -7.3908e-06,\n",
      "         -1.4396e-04, -2.5604e-04,  2.2269e-04,  7.5394e-05,  1.7525e-04,\n",
      "          1.3316e-04,  8.7590e-05, -1.1241e-04,  1.8472e-04,  3.7067e-05,\n",
      "          1.3799e-04, -2.0765e-04, -2.9862e-04,  3.0951e-04],\n",
      "        [-2.1624e-04, -9.4935e-05,  8.9859e-05, -8.9484e-05, -1.9725e-04,\n",
      "         -6.7907e-06,  2.1711e-04, -1.1408e-04,  3.1549e-04, -1.2373e-04,\n",
      "         -2.8521e-05, -1.3709e-04, -1.3130e-04,  2.3785e-05, -3.1670e-05,\n",
      "          1.0602e-04,  5.6190e-06, -1.4771e-04,  6.6281e-05,  2.1629e-04,\n",
      "          3.4074e-05, -1.3973e-04,  2.9398e-05, -6.2815e-05, -1.5342e-04,\n",
      "          2.0617e-04,  1.4709e-05,  3.2691e-05, -7.0091e-05, -5.6809e-05,\n",
      "          2.4324e-04, -1.0942e-04,  1.1101e-04,  5.6655e-05, -5.9944e-05,\n",
      "         -2.6805e-04, -4.0509e-05, -1.7042e-05,  7.5660e-05,  5.1449e-05,\n",
      "         -1.3892e-04, -1.8737e-04,  2.4855e-05,  2.7616e-04, -6.6695e-05,\n",
      "         -8.4996e-05,  2.2616e-04, -3.9747e-05, -2.3793e-04, -1.5066e-04,\n",
      "         -3.3135e-04, -2.1330e-04,  8.2490e-05,  4.8999e-05,  2.4303e-04,\n",
      "          4.5309e-05, -7.0906e-05, -1.3212e-04, -1.0256e-05, -6.6334e-05,\n",
      "          1.2119e-04,  1.0359e-04, -2.0781e-04,  3.0961e-05, -2.5434e-04,\n",
      "         -6.0644e-05,  1.9795e-04,  1.9661e-04,  3.8914e-05,  6.2259e-05,\n",
      "         -1.3589e-04,  9.7933e-05, -1.6364e-04, -1.7865e-05,  7.8107e-05,\n",
      "          3.4095e-04,  1.2534e-04,  3.7162e-05,  2.5972e-05, -3.0402e-04,\n",
      "         -1.0090e-04, -1.8470e-04, -4.0230e-05, -2.1717e-04,  5.7220e-05,\n",
      "          2.7318e-06, -9.4703e-06,  7.1961e-05, -1.7508e-04, -1.1647e-04,\n",
      "         -2.9671e-04, -7.4880e-05, -1.7754e-05, -1.0220e-04, -1.2555e-04,\n",
      "          1.0418e-04,  4.5210e-05, -1.0996e-04, -5.7910e-05,  1.8093e-04,\n",
      "         -6.6982e-05,  2.5289e-04,  5.9598e-05,  9.3937e-05,  6.3706e-05,\n",
      "         -5.7198e-06, -1.5067e-04,  1.3842e-04, -9.2675e-06, -1.5062e-04,\n",
      "         -1.5839e-04, -3.8968e-05, -9.0240e-05,  3.3800e-04,  7.3161e-05,\n",
      "         -8.4303e-05,  1.3854e-04,  9.4033e-05,  1.2861e-04,  2.0313e-04,\n",
      "         -2.1905e-04, -5.9548e-05, -2.0966e-04,  5.1054e-05, -1.4726e-04,\n",
      "         -4.5230e-05, -3.2763e-05,  1.2941e-35,  7.4669e-05, -1.3903e-04,\n",
      "          9.7465e-05, -1.4862e-05, -6.5345e-06,  1.8513e-05, -2.9224e-04,\n",
      "         -8.8877e-05,  2.4884e-05, -2.2443e-04,  9.0639e-05,  1.9982e-05,\n",
      "         -8.5184e-05,  7.1037e-05,  6.4439e-05,  5.9299e-05, -2.4328e-05,\n",
      "          2.4853e-04,  3.1165e-05,  2.2463e-04,  7.2393e-05,  2.4831e-04,\n",
      "         -1.9674e-04,  1.4294e-04, -9.4218e-05,  7.0340e-06,  2.3447e-04,\n",
      "         -5.9747e-05, -5.3767e-05,  1.2059e-06, -5.2732e-05, -2.2854e-04,\n",
      "          1.3621e-04, -4.0610e-05,  2.4438e-05,  5.0959e-05, -6.6316e-05,\n",
      "         -6.5888e-05, -4.5152e-06,  1.3521e-04, -1.8657e-04, -1.8947e-04,\n",
      "          5.5202e-05,  1.1335e-04, -1.0116e-04, -3.0925e-05, -1.4501e-04,\n",
      "          1.4210e-04,  1.6958e-04,  4.0255e-06, -4.1291e-05, -2.2103e-05,\n",
      "         -8.5875e-05,  5.8842e-05, -1.6506e-04, -1.4980e-05,  5.1517e-05,\n",
      "         -2.6513e-05, -4.0938e-05, -9.7318e-05, -1.9499e-04, -1.6033e-05,\n",
      "          1.4415e-04, -9.4804e-05,  1.4692e-04, -1.3290e-04,  5.5036e-05,\n",
      "         -1.0739e-04, -1.6576e-04,  1.0679e-04, -1.7921e-04,  1.1382e-04,\n",
      "          1.4742e-04, -1.1928e-04,  2.6514e-05, -3.5738e-05, -1.1342e-04,\n",
      "         -1.0640e-04,  4.2583e-07,  8.3675e-05,  3.1808e-06,  1.6465e-04,\n",
      "          1.6305e-04, -8.6519e-05, -7.6605e-05, -1.6732e-04, -6.6462e-05,\n",
      "          2.7613e-04, -2.0962e-04,  1.1442e-04,  7.0303e-05,  2.8157e-05,\n",
      "         -2.3652e-05, -2.4871e-04,  3.4358e-04, -1.2136e-35,  3.3880e-05,\n",
      "         -9.2894e-05,  8.3653e-05, -7.0311e-05,  2.2376e-04,  2.3128e-04,\n",
      "          5.0007e-05,  1.1731e-04,  6.6000e-05, -1.8208e-04,  1.1965e-04,\n",
      "         -1.1144e-04,  1.2388e-04, -6.6894e-05, -1.1380e-04,  1.6415e-05,\n",
      "          4.2060e-05, -1.8948e-04,  8.8288e-05,  7.7367e-05,  7.5865e-05,\n",
      "         -3.8982e-07, -8.7672e-05,  2.5358e-04, -5.5340e-05,  9.9257e-05,\n",
      "          2.0680e-04,  2.2809e-04, -2.4724e-04, -1.6183e-05, -2.2096e-05,\n",
      "         -6.3859e-05, -4.1884e-05,  6.6215e-05,  5.6159e-05,  7.9525e-05,\n",
      "         -1.4460e-04,  1.3544e-04,  2.0522e-05, -6.2762e-05, -6.7126e-05,\n",
      "          4.4418e-05, -8.1223e-05,  4.6675e-05, -4.4811e-06,  8.0571e-05,\n",
      "          1.2370e-04,  4.7864e-06,  2.4762e-04, -4.4967e-05,  9.7231e-06,\n",
      "          1.4727e-04, -1.8699e-04, -5.5503e-05,  1.5416e-04, -1.9963e-04,\n",
      "          2.4262e-04,  1.4169e-04,  1.1880e-04,  1.8405e-04, -1.3854e-04,\n",
      "          1.6097e-04,  1.2304e-04,  1.0161e-04, -1.7161e-04, -2.6666e-04,\n",
      "          5.8946e-05, -9.9254e-05, -7.6944e-05,  8.5150e-05,  6.4749e-05,\n",
      "          1.7810e-04, -1.2739e-04,  7.6922e-05,  2.7068e-04,  9.8393e-05,\n",
      "          1.0073e-04, -6.5573e-06,  1.1871e-05,  2.9189e-05, -2.7237e-06,\n",
      "          8.9587e-05,  4.4746e-05,  2.0959e-04,  7.9620e-05,  5.4167e-05,\n",
      "          3.0346e-05, -9.0728e-05,  2.3023e-04, -5.5023e-05,  1.1095e-05,\n",
      "          2.5401e-06,  2.2406e-05, -3.6918e-04,  4.7167e-05, -5.1845e-11,\n",
      "          5.9351e-05, -1.2741e-04, -1.1791e-04, -1.9876e-04, -1.4874e-04,\n",
      "          2.7896e-04,  1.2988e-04, -2.2661e-06, -1.4022e-04, -2.2512e-06,\n",
      "          2.0904e-04,  7.4469e-05,  1.1710e-04,  2.6469e-06, -9.6880e-06,\n",
      "         -1.9290e-04,  4.5702e-05, -1.0363e-04,  6.1026e-05,  1.2385e-05,\n",
      "         -7.8293e-05, -8.2442e-05,  3.1463e-05,  1.4635e-04,  4.4990e-05,\n",
      "          1.6155e-04,  2.4067e-04, -1.5838e-04,  1.3618e-04,  1.1380e-04,\n",
      "          1.7858e-04, -1.2116e-05, -2.3716e-04,  1.7974e-04,  5.1726e-05,\n",
      "         -5.3637e-05,  9.1951e-05,  2.4747e-04,  3.0477e-05,  3.0021e-04,\n",
      "          1.0728e-04, -6.7081e-05, -1.6692e-04,  1.2523e-05,  5.3439e-05,\n",
      "         -2.6161e-05, -1.4782e-05, -1.2213e-04, -1.2458e-05, -3.6334e-05,\n",
      "          3.6415e-06,  3.5845e-05, -1.8928e-04, -3.3505e-05, -3.5773e-04,\n",
      "          1.0671e-04, -1.4024e-04,  5.3948e-05,  4.2597e-05,  3.2576e-05,\n",
      "          1.1246e-04, -1.7898e-04,  4.4618e-05, -4.3245e-05]])\n"
     ]
    }
   ],
   "source": [
    "print(x_train[:2])"
   ]
  },
  {
   "cell_type": "code",
   "execution_count": 6,
   "metadata": {},
   "outputs": [
    {
     "name": "stdout",
     "output_type": "stream",
     "text": [
      "tensor([1, 2])\n"
     ]
    }
   ],
   "source": [
    "print(y_train[:2])"
   ]
  },
  {
   "cell_type": "code",
   "execution_count": 7,
   "metadata": {},
   "outputs": [],
   "source": [
    "L = 4\n",
    "d = len(x_train[0])\n",
    "linear_nn = torch.nn.Linear(d, L)"
   ]
  },
  {
   "cell_type": "code",
   "execution_count": 8,
   "metadata": {},
   "outputs": [
    {
     "name": "stdout",
     "output_type": "stream",
     "text": [
      "x1 =  tensor([-8.7899e-05,  3.6016e-05,  6.6271e-05,  1.6554e-05,  8.1709e-05,\n",
      "        -1.6398e-04, -1.0694e-04,  3.8124e-05, -4.0722e-05,  1.5640e-05,\n",
      "         5.9334e-05,  1.5015e-04,  6.9028e-05,  9.5005e-06, -2.3751e-05,\n",
      "         3.6679e-05, -1.7564e-04, -1.4351e-04, -7.3044e-05,  1.0945e-04,\n",
      "        -2.6269e-04,  9.5159e-06,  2.2117e-04, -4.8098e-05,  2.0771e-04,\n",
      "        -8.2889e-05, -6.5250e-05,  1.1368e-04, -1.1842e-04,  9.0210e-05,\n",
      "         1.4703e-04,  1.0929e-04,  6.9705e-05,  2.2680e-04,  1.0840e-04,\n",
      "        -6.7918e-05,  2.7577e-04, -3.2303e-05,  7.2200e-05,  2.6124e-05,\n",
      "         3.8294e-05, -3.0205e-04,  4.5588e-05,  4.1950e-05,  1.1088e-04,\n",
      "         2.7532e-04,  1.2823e-04, -4.1185e-05, -9.9267e-05,  1.0803e-04,\n",
      "        -2.2030e-04, -9.9785e-07, -7.5704e-05,  2.5365e-04, -1.6787e-04,\n",
      "         8.0811e-05,  3.8581e-05,  4.8124e-06,  1.7912e-04,  6.0507e-05,\n",
      "        -3.1754e-05, -3.6642e-05, -1.9131e-05,  9.5693e-05, -2.5362e-05,\n",
      "         2.9074e-04, -4.6591e-05,  5.9422e-06, -7.8071e-05,  5.9456e-05,\n",
      "         2.2651e-04,  8.7604e-05, -2.0812e-04,  1.9054e-04,  1.4986e-04,\n",
      "        -8.6386e-05,  1.4189e-04, -6.6040e-05,  2.1858e-05,  1.3835e-04,\n",
      "        -1.1584e-04, -6.5866e-05, -9.1113e-05,  1.5219e-04, -1.7787e-04,\n",
      "         1.3283e-04,  7.7096e-05, -1.5461e-04, -9.9024e-05,  1.1576e-05,\n",
      "        -7.7358e-05,  4.6535e-05, -1.2583e-05,  8.0244e-05, -1.4651e-04,\n",
      "        -6.7354e-05, -5.2256e-05,  2.3360e-05, -3.0773e-04,  1.2371e-06,\n",
      "        -9.5205e-05,  1.3619e-04,  1.3072e-04, -1.0421e-04,  1.1560e-04,\n",
      "         6.6893e-05,  1.0821e-04, -6.6740e-05,  7.0843e-05,  1.8709e-04,\n",
      "         2.1517e-04, -1.3327e-04, -1.4173e-04,  1.0162e-04,  9.5714e-05,\n",
      "         9.5669e-06,  4.3365e-05,  4.4836e-06,  7.5389e-05, -1.7467e-04,\n",
      "         1.7944e-04,  8.4622e-05,  7.7340e-05, -1.0642e-05, -2.8316e-06,\n",
      "         1.5600e-04,  1.6559e-05, -7.3421e-36,  4.8308e-06,  4.0724e-05,\n",
      "         9.3581e-05,  7.4323e-05, -3.9190e-05,  3.0312e-05, -2.3409e-04,\n",
      "        -1.1389e-04, -1.2301e-04,  3.6352e-05,  3.2001e-05,  9.1558e-05,\n",
      "         8.7646e-05, -9.8045e-05, -4.5633e-05,  1.2484e-04,  1.5665e-04,\n",
      "         4.8575e-05, -1.3036e-05,  1.5457e-04,  1.6337e-04, -1.2525e-04,\n",
      "         9.6737e-05,  6.4639e-05, -1.9850e-04,  1.9060e-04,  2.0353e-04,\n",
      "        -3.0313e-05, -5.1390e-05,  3.2377e-06, -2.2223e-04,  1.1185e-04,\n",
      "         1.5571e-04, -3.3322e-05,  2.1374e-04, -8.7193e-05,  8.0190e-05,\n",
      "        -5.2569e-05, -4.4857e-05,  7.1675e-06,  5.7516e-05, -4.6410e-06,\n",
      "        -5.8800e-05, -2.7512e-04, -8.2443e-05,  3.4378e-05, -1.3504e-04,\n",
      "         9.0593e-05, -2.5268e-05,  2.2262e-04, -7.5189e-05,  4.7955e-05,\n",
      "        -1.3385e-04,  5.3181e-05, -2.3754e-04, -1.7978e-04, -5.7600e-05,\n",
      "        -8.0131e-05, -1.4759e-04,  5.4711e-06, -5.7512e-05, -6.3447e-05,\n",
      "         1.1692e-04, -2.3370e-04,  1.0876e-04, -1.7529e-05, -1.9972e-05,\n",
      "         1.6668e-04,  1.4748e-04,  1.5664e-04, -5.5077e-07,  5.2173e-07,\n",
      "        -2.5409e-05,  1.8939e-05, -1.2154e-04, -2.0003e-04, -7.6190e-05,\n",
      "         1.5193e-04,  3.0598e-05,  1.7327e-04,  3.0858e-04,  5.8556e-05,\n",
      "        -7.7608e-05, -9.9618e-05, -1.0217e-04,  2.1700e-05, -5.0220e-05,\n",
      "         8.1995e-06, -3.3685e-04,  2.4764e-04, -2.4923e-04,  1.3910e-04,\n",
      "         7.8932e-05,  1.0655e-04, -1.9488e-04,  4.6037e-37, -1.6422e-04,\n",
      "        -4.7177e-05, -1.7605e-04, -1.5702e-04, -3.5950e-06, -1.3126e-04,\n",
      "         1.7768e-05,  9.8878e-05,  1.3665e-05,  1.4827e-04, -1.6951e-04,\n",
      "        -6.6823e-05,  8.0357e-06, -1.2392e-04, -1.1365e-06,  3.1030e-04,\n",
      "         2.1796e-04, -1.1563e-04, -2.9313e-04,  1.1331e-05, -2.3022e-04,\n",
      "         4.1378e-05, -5.9565e-05,  2.7827e-04, -1.5809e-04,  2.6473e-05,\n",
      "         9.0397e-05,  1.3913e-05,  2.3499e-04, -2.5829e-04,  8.6927e-05,\n",
      "         2.8571e-05, -2.4438e-04, -7.2076e-05, -1.6830e-05, -7.6364e-05,\n",
      "        -1.0323e-04,  1.5700e-04,  5.3435e-05, -1.9180e-04, -1.1848e-05,\n",
      "         4.4277e-05, -2.6131e-04, -1.6814e-05, -1.3704e-05,  1.8281e-04,\n",
      "        -3.7943e-05,  4.6693e-05, -3.1090e-04,  1.6718e-04, -5.9771e-05,\n",
      "        -4.0493e-05,  3.5111e-04, -2.8618e-05, -1.2218e-04,  6.6130e-05,\n",
      "         3.6717e-05, -2.5965e-05, -6.0332e-05, -4.8132e-05,  1.0034e-04,\n",
      "        -3.6551e-05, -1.3594e-04, -6.8314e-05,  8.5794e-05, -4.9064e-05,\n",
      "         4.2778e-05, -4.7937e-05, -4.7170e-06, -1.3884e-04, -9.8117e-06,\n",
      "        -2.4379e-04,  1.0391e-04, -2.1535e-04,  3.6737e-05,  3.8931e-06,\n",
      "         5.3285e-05, -2.8350e-05, -4.0426e-06,  1.8267e-04,  1.1298e-04,\n",
      "         6.6058e-05, -1.8295e-04, -1.8017e-04,  5.1419e-05, -5.3406e-05,\n",
      "         1.9150e-04,  1.8856e-04, -1.4763e-04,  6.7762e-05, -6.4093e-06,\n",
      "         7.1930e-06, -2.8403e-04,  2.6794e-05,  1.6697e-04, -5.0922e-11,\n",
      "         1.8629e-04, -3.7754e-05, -1.2713e-04,  1.7238e-04,  8.0645e-05,\n",
      "         1.6011e-04, -5.8410e-05, -4.5370e-05, -1.1660e-04,  8.5659e-05,\n",
      "        -4.6976e-05, -1.3027e-04, -7.5867e-05,  7.9593e-05,  9.2029e-06,\n",
      "        -2.9594e-04, -2.2530e-04, -1.5209e-04, -6.8555e-05,  1.5436e-04,\n",
      "        -1.9217e-04, -1.3004e-04, -1.5441e-04, -4.5329e-05, -1.7765e-04,\n",
      "        -6.9189e-05, -1.6650e-04, -1.6837e-05, -9.8026e-05,  1.9985e-04,\n",
      "         5.9879e-07, -1.3907e-05,  1.2343e-04, -2.1407e-04, -3.3372e-04,\n",
      "         3.1100e-05,  1.4792e-04, -7.5005e-05,  1.9790e-04, -1.7688e-04,\n",
      "         1.6606e-04,  5.2214e-05,  1.1498e-05,  1.3286e-04, -3.5404e-04,\n",
      "         6.2897e-05,  1.3537e-04, -4.6304e-08,  8.6753e-05, -7.3908e-06,\n",
      "        -1.4396e-04, -2.5604e-04,  2.2269e-04,  7.5394e-05,  1.7525e-04,\n",
      "         1.3316e-04,  8.7590e-05, -1.1241e-04,  1.8472e-04,  3.7067e-05,\n",
      "         1.3799e-04, -2.0765e-04, -2.9862e-04,  3.0951e-04]) \n",
      "\n",
      "W =  tensor([[-0.5557,  0.0437, -0.3160,  ...,  1.3154,  0.7129, -0.6142],\n",
      "        [-1.4563, -1.6203, -0.5145,  ...,  0.4769, -0.3474, -2.6071],\n",
      "        [ 1.0177,  0.2865,  1.1318,  ...,  0.1685, -0.2326, -0.9535],\n",
      "        [ 1.2909, -1.1194, -0.3091,  ...,  1.3576, -1.8180,  1.1042]]) \n",
      "\n",
      "y1_hat =  tensor([0.2455, 0.2377, 0.2572, 0.2596], grad_fn=<SoftmaxBackward0>) \n",
      "\n"
     ]
    }
   ],
   "source": [
    "x1 = x_train[0]\n",
    "W = torch.randn(4, len(x1))\n",
    "result_x1 = linear_nn(x1)\n",
    "y1_hat = torch.softmax(result_x1, dim=-1)\n",
    "print(\"x1 = \", x1, \"\\n\")\n",
    "print(\"W = \", W, \"\\n\")\n",
    "print(\"y1_hat = \", y1_hat, \"\\n\")"
   ]
  },
  {
   "cell_type": "code",
   "execution_count": 9,
   "metadata": {},
   "outputs": [
    {
     "name": "stdout",
     "output_type": "stream",
     "text": [
      "X1_to_4 =  tensor([[-8.7899e-05,  3.6016e-05,  6.6271e-05,  ..., -2.0765e-04,\n",
      "         -2.9862e-04,  3.0951e-04],\n",
      "        [-2.1624e-04, -9.4935e-05,  8.9859e-05,  ..., -1.7898e-04,\n",
      "          4.4618e-05, -4.3245e-05],\n",
      "        [-1.3177e-04,  2.3720e-04,  3.1202e-05,  ...,  6.7066e-06,\n",
      "         -1.4341e-04, -1.4693e-04],\n",
      "        [ 3.3781e-06, -3.2162e-05,  1.0769e-04,  ..., -1.0235e-04,\n",
      "          4.3635e-04,  1.0801e-04]]) \n",
      "\n",
      "Y_hat =  tensor([[0.2455, 0.2377, 0.2572, 0.2596],\n",
      "        [0.2455, 0.2377, 0.2572, 0.2596],\n",
      "        [0.2455, 0.2377, 0.2572, 0.2596],\n",
      "        [0.2455, 0.2377, 0.2572, 0.2596]], grad_fn=<SoftmaxBackward0>) \n",
      "\n"
     ]
    }
   ],
   "source": [
    "X1_to_4 = x_train[:4]\n",
    "result_1_to_4 = linear_nn(X1_to_4)\n",
    "Y_hat = torch.softmax(result_1_to_4, dim=-1)\n",
    "print(\"X1_to_4 = \", X1_to_4, \"\\n\")\n",
    "print(\"Y_hat = \", Y_hat, \"\\n\")"
   ]
  },
  {
   "cell_type": "markdown",
   "metadata": {},
   "source": [
    "# 72. Calculating loss and gradients"
   ]
  },
  {
   "cell_type": "code",
   "execution_count": 10,
   "metadata": {},
   "outputs": [
    {
     "name": "stdout",
     "output_type": "stream",
     "text": [
      "Loss x1 =  tensor(1.4366, grad_fn=<NllLossBackward0>) \n",
      "\n",
      "Loss X1_to_4 =  tensor(1.4089, grad_fn=<NllLossBackward0>) \n",
      "\n"
     ]
    }
   ],
   "source": [
    "def _calculate_loss(tensor_in: object, tensor_out, name:str) -> None:\n",
    "    entropy = nn.CrossEntropyLoss()\n",
    "    loss = entropy(tensor_in, tensor_out)\n",
    "    print(f\"Loss {name} = \", loss, \"\\n\")\n",
    "    loss.backward()\n",
    "\n",
    "_calculate_loss(linear_nn(x_train[:1]), y_train[:1], \"x1\")\n",
    "_calculate_loss(linear_nn(x_train[:4]), y_train[:4], \"X1_to_4\")"
   ]
  },
  {
   "cell_type": "code",
   "execution_count": 11,
   "metadata": {},
   "outputs": [
    {
     "name": "stdout",
     "output_type": "stream",
     "text": [
      "Grad x1 =  (tensor([-0.0321,  0.0232,  0.0439,  0.0092], grad_fn=<CatBackward0>),) \n",
      "\n",
      "Grad X1_to_4 =  (tensor([[ 1.2866e-04, -4.3306e-05, -9.6869e-05,  4.2196e-05],\n",
      "        [ 7.5818e-05, -4.3226e-05, -2.6561e-06,  3.1639e-05],\n",
      "        [-3.0814e-05,  7.1060e-06,  8.0405e-05,  6.6178e-05],\n",
      "        [-8.4605e-05,  5.7358e-05,  6.9253e-05,  1.1127e-04]],\n",
      "       grad_fn=<CatBackward0>), tensor([[-0.0321,  0.0232,  0.0439,  0.0092],\n",
      "        [-0.0323,  0.0231,  0.0439,  0.0094],\n",
      "        [-0.0324,  0.0232,  0.0440,  0.0093],\n",
      "        [-0.0322,  0.0232,  0.0440,  0.0093]], grad_fn=<CatBackward0>)) \n",
      "\n"
     ]
    }
   ],
   "source": [
    "def _calculate_grad(tensor: object, name:str) -> None:\n",
    "    print(f\"Grad {name} = \", torch.gradient(tensor), \"\\n\")\n",
    "\n",
    "_calculate_grad(linear_nn(x_train[0]), \"x1\")\n",
    "_calculate_grad(linear_nn(x_train[:4]), \"X1_to_4\")"
   ]
  },
  {
   "cell_type": "markdown",
   "metadata": {},
   "source": [
    "# 73. Learning with stochastic gradient descent"
   ]
  },
  {
   "cell_type": "code",
   "execution_count": 13,
   "metadata": {},
   "outputs": [],
   "source": [
    "def _calculate_loss(x: object, y: object, loss_fn: object, model: object = linear_nn) -> int:\n",
    "    loss = loss_fn(model(x), y)\n",
    "    loss.backward()\n",
    "    return loss.item()"
   ]
  },
  {
   "cell_type": "code",
   "execution_count": 21,
   "metadata": {},
   "outputs": [
    {
     "data": {
      "image/png": "[encoded data removed]",
      "text/plain": [
       "<Figure size 432x288 with 1 Axes>"
      ]
     },
     "metadata": {
      "needs_background": "light"
     },
     "output_type": "display_data"
    }
   ],
   "source": [
    "EPOCHS = 100\n",
    "loss_fn = nn.CrossEntropyLoss()\n",
    "optimizer = torch.optim.SGD(linear_nn.parameters(), lr=1e-3)\n",
    "losses = []\n",
    "\n",
    "for i in range(EPOCHS):\n",
    "    optimizer.zero_grad()\n",
    "    losses.append(_calculate_loss(x_train, y_train, loss_fn))\n",
    "    optimizer.step()\n",
    "    \n",
    "plt.plot(losses, marker=\"+\")\n",
    "plt.ylabel(\"Loss\")\n",
    "plt.xlabel(\"Epoch\")\n",
    "plt.title(\"Evolution of the loss\\nwhen learning with SGC\")\n",
    "plt.show()"
   ]
  },
  {
   "cell_type": "markdown",
   "metadata": {},
   "source": [
    "# 74. Measuring accuracy"
   ]
  },
  {
   "cell_type": "code",
   "execution_count": 15,
   "metadata": {},
   "outputs": [],
   "source": [
    "def _calculate_accuracy(x: object, y: object, model: object = linear_nn) -> int:\n",
    "    #BUG: y_pred doesn't change\n",
    "    y_pred = model(x).detach().numpy()\n",
    "    return metrics.accuracy_score(y, np.argmax(y_pred, axis=1))"
   ]
  },
  {
   "cell_type": "code",
   "execution_count": 16,
   "metadata": {},
   "outputs": [
    {
     "name": "stdout",
     "output_type": "stream",
     "text": [
      "Accuracy for the Training Data: 0.5406622516556291\n",
      "Accuracy for the Valid Data: 0.5233050847457628\n"
     ]
    }
   ],
   "source": [
    "print(\"Accuracy for the Training Data:\", _calculate_accuracy(x_train, y_train))\n",
    "print(\"Accuracy for the Valid Data:\", _calculate_accuracy(x_valid, y_valid))"
   ]
  },
  {
   "cell_type": "markdown",
   "metadata": {},
   "source": [
    "# 75. Plotting loss and accuracy"
   ]
  },
  {
   "cell_type": "code",
   "execution_count": 17,
   "metadata": {},
   "outputs": [],
   "source": [
    "def _display_loss_acc(EPOCHS: int,\n",
    "                      losses_train: list,\n",
    "                      losses_valid: list,\n",
    "                      accuracies_train: list,\n",
    "                      accuracies_valid: list) -> None:\n",
    "    LENGTH = range(EPOCHS)\n",
    "\n",
    "    fig, ax = plt.subplots(figsize=(12, 6), nrows=1, ncols=2)\n",
    "\n",
    "    ax[0].plot(LENGTH, losses_train, color=\"blue\", label=\"Loss Train\")\n",
    "    ax[0].plot(LENGTH, losses_valid, color=\"red\", label=\"Loss Valid\")\n",
    "    ax[0].set_xlabel(\"Epoch\")\n",
    "    ax[0].set_ylabel(\"Loss\")\n",
    "    ax[0].legend()\n",
    "\n",
    "    ax[1].plot(LENGTH, accuracies_train, color=\"blue\", label=\"Accuracy Train\")\n",
    "    ax[1].plot(LENGTH, accuracies_valid, color=\"red\", label='Accuracy Valid')\n",
    "    ax[1].set_xlabel(\"Epoch\")\n",
    "    ax[1].set_ylabel(\"Accuracy\")\n",
    "    ax[1].legend()\n",
    "\n",
    "    plt.show()"
   ]
  },
  {
   "cell_type": "code",
   "execution_count": 22,
   "metadata": {},
   "outputs": [],
   "source": [
    "loss_fn = nn.CrossEntropyLoss()\n",
    "optimizer = torch.optim.SGD(linear_nn.parameters(), lr=1e-3)\n",
    "\n",
    "EPOCHS = 3000\n",
    "\n",
    "losses_train = []\n",
    "accuracies_train = []\n",
    "losses_valid = []\n",
    "accuracies_valid = []\n",
    "\n",
    "for epoch in range(EPOCHS):\n",
    "    optimizer.zero_grad()\n",
    "    \n",
    "    losses_train.append(_calculate_loss(x_train, y_train, loss_fn))\n",
    "    losses_valid.append(_calculate_loss(x_valid, y_valid, loss_fn))\n",
    "    \n",
    "    accuracies_train.append(_calculate_accuracy(x_train, y_train))\n",
    "    accuracies_valid.append(_calculate_accuracy(x_valid, y_valid))\n",
    "    \n",
    "    optimizer.step()"
   ]
  },
  {
   "cell_type": "code",
   "execution_count": 23,
   "metadata": {},
   "outputs": [
    {
     "data": {
      "image/png": "[encoded data removed]",
      "text/plain": [
       "<Figure size 864x432 with 2 Axes>"
      ]
     },
     "metadata": {
      "needs_background": "light"
     },
     "output_type": "display_data"
    }
   ],
   "source": [
    "_display_loss_acc(EPOCHS, losses_train, losses_valid, accuracies_train, accuracies_valid)"
   ]
  },
  {
   "cell_type": "markdown",
   "metadata": {},
   "source": [
    "# 76. Checkpoints"
   ]
  },
  {
   "cell_type": "markdown",
   "metadata": {},
   "source": [
    "## Checkpoints should include values of the parameters such as weight matrices and the internal states of the optimization algorithm."
   ]
  },
  {
   "cell_type": "code",
   "execution_count": 64,
   "metadata": {},
   "outputs": [],
   "source": [
    "def _save_checkpoints(epoch: int, W, model, optimizer, PATH: str) -> None:\n",
    "    torch.save({\n",
    "            \"epoch\": epoch,\n",
    "            \"weight_matrix\" : W,\n",
    "            \"model_state_dict\": model.state_dict(),\n",
    "            \"optimizer_state_dict\": optimizer.state_dict(),\n",
    "            }, PATH)"
   ]
  },
  {
   "cell_type": "code",
   "execution_count": 66,
   "metadata": {},
   "outputs": [],
   "source": [
    "loss_fn = nn.CrossEntropyLoss()\n",
    "optimizer = torch.optim.SGD(linear_nn.parameters(), lr=1e-3)\n",
    "\n",
    "EPOCHS = 1000\n",
    "PATH = \"data/checkpoints.pt\"\n",
    "\n",
    "losses_train = []\n",
    "accuracies_train = []\n",
    "losses_valid = []\n",
    "accuracies_valid = []\n",
    "\n",
    "for epoch in range(EPOCHS):\n",
    "    optimizer.zero_grad()\n",
    "    \n",
    "    losses_train.append(_calculate_loss(x_train, y_train, loss_fn))\n",
    "    losses_valid.append(_calculate_loss(x_valid, y_valid, loss_fn))\n",
    "    \n",
    "    accuracies_train.append(_calculate_accuracy(x_train, y_train))\n",
    "    accuracies_valid.append(_calculate_accuracy(x_valid, y_valid))\n",
    "    \n",
    "    _save_checkpoints(epoch, W, linear_nn, optimizer, PATH)\n",
    "    \n",
    "    optimizer.step()"
   ]
  },
  {
   "cell_type": "markdown",
   "metadata": {},
   "source": [
    "# 77. Mini-batches"
   ]
  },
  {
   "cell_type": "code",
   "execution_count": 67,
   "metadata": {},
   "outputs": [],
   "source": [
    "def _display_epoch_data(batch_size: int,\n",
    "                        losses_train: list,\n",
    "                        losses_valid: list,\n",
    "                        accuracies_train: list,\n",
    "                        accuracies_valid:  list) -> None:\n",
    "    print(\"BATCH_SIZE : \",  batch_size)\n",
    "    print(\"\\tLoss Train : \",  losses_train)\n",
    "    print(\"\\tLoss Valid : \",  losses_valid)\n",
    "    print(\"\\tAccuracy Train : \",  accuracies_train)\n",
    "    print(\"\\tAccuracy Valid : \",  accuracies_valid)\n",
    "    print()"
   ]
  },
  {
   "cell_type": "code",
   "execution_count": 73,
   "metadata": {},
   "outputs": [],
   "source": [
    "def _iterate_through_loader(optimizer, loader, loss_fn, model = linear_nn) -> tuple:\n",
    "    loss_epoch = 0\n",
    "    accuracy_epoch = []\n",
    "    \n",
    "    for step, (batch_x, batch_y) in enumerate(loader):\n",
    "            optimizer.zero_grad()\n",
    "            loss = _calculate_loss(batch_x, batch_y, loss_fn, model)\n",
    "            loss_epoch += loss\n",
    "            accuracy = _calculate_accuracy(batch_x, batch_y, model)\n",
    "            accuracy_epoch.append(accuracy)\n",
    "\n",
    "    return loss_epoch, accuracy_epoch"
   ]
  },
  {
   "cell_type": "code",
   "execution_count": 74,
   "metadata": {},
   "outputs": [
    {
     "name": "stdout",
     "output_type": "stream",
     "text": [
      "CPU times: user 3 µs, sys: 1 µs, total: 4 µs\n",
      "Wall time: 9.06 µs\n",
      "BATCH_SIZE :  1\n",
      "\tLoss Train :  [1.1364112382061433]\n",
      "\tLoss Valid :  [1.1562323570251465]\n",
      "\tAccuracy Train :  [0.5406622516556291]\n",
      "\tAccuracy Valid :  [0.5233050847457628]\n",
      "\n",
      "CPU times: user 4 µs, sys: 2 µs, total: 6 µs\n",
      "Wall time: 10 µs\n",
      "BATCH_SIZE :  2\n",
      "\tLoss Train :  [1.1364072677157573]\n",
      "\tLoss Valid :  [1.156239628791809]\n",
      "\tAccuracy Train :  [0.5406622516556291]\n",
      "\tAccuracy Valid :  [0.5233050847457628]\n",
      "\n",
      "CPU times: user 4 µs, sys: 3 µs, total: 7 µs\n",
      "Wall time: 11 µs\n",
      "BATCH_SIZE :  4\n",
      "\tLoss Train :  [1.1362683558047324]\n",
      "\tLoss Valid :  [1.1562469005584717]\n",
      "\tAccuracy Train :  [0.5407838983050848]\n",
      "\tAccuracy Valid :  [0.5233050847457628]\n",
      "\n",
      "CPU times: user 3 µs, sys: 1 µs, total: 4 µs\n",
      "Wall time: 6.91 µs\n",
      "BATCH_SIZE :  8\n",
      "\tLoss Train :  [1.1364761222848447]\n",
      "\tLoss Valid :  [1.1562544107437134]\n",
      "\tAccuracy Train :  [0.5406073446327684]\n",
      "\tAccuracy Valid :  [0.5233050847457628]\n",
      "\n",
      "CPU times: user 3 µs, sys: 1 µs, total: 4 µs\n",
      "Wall time: 8.11 µs\n",
      "BATCH_SIZE :  16\n",
      "\tLoss Train :  [1.136440904716314]\n",
      "\tLoss Valid :  [1.156251072883606]\n",
      "\tAccuracy Train :  [0.5406514830508474]\n",
      "\tAccuracy Valid :  [0.5233050847457628]\n",
      "\n"
     ]
    }
   ],
   "source": [
    "torch.manual_seed(1)\n",
    "\n",
    "BATCH_SIZES = [1, 2, 4, 8, 16]\n",
    "EPOCHS = 1\n",
    "\n",
    "for current_batch_size in BATCH_SIZES:\n",
    "    \n",
    "    %%time\n",
    "\n",
    "    PATH = f\"data/batch_size{current_batch_size}.checkpoints.pt\"\n",
    "\n",
    "    losses_train = []\n",
    "    accuracies_train = []\n",
    "    losses_valid = []\n",
    "    accuracies_valid = []\n",
    "\n",
    "    loss_fn = nn.CrossEntropyLoss()\n",
    "    optimizer = torch.optim.SGD(linear_nn.parameters(), lr=1e-3)\n",
    "    torch_dataset = Data.TensorDataset(x_train, y_train)\n",
    "    loader = Data.DataLoader(dataset = torch_dataset,\n",
    "                            batch_size = current_batch_size,\n",
    "                            shuffle = True)\n",
    "\n",
    "    for epoch in range(EPOCHS):\n",
    "        \n",
    "        loss_epoch, accuracy_epoch = _iterate_through_loader(optimizer, loader, loss_fn)\n",
    "        \n",
    "        loss_epoch = loss_epoch / len(loader)\n",
    "        losses_train.append(loss_epoch)\n",
    "        losses_valid.append(_calculate_loss(x_valid, y_valid, loss_fn))\n",
    "\n",
    "        accuracies_train.append(np.mean(accuracy_epoch))\n",
    "        accuracies_valid.append(_calculate_accuracy(x_valid, y_valid))\n",
    "\n",
    "        _save_checkpoints(epoch, W, linear_nn, optimizer, PATH)\n",
    "\n",
    "        optimizer.step()\n",
    "    \n",
    "    _display_epoch_data(current_batch_size, losses_train, losses_valid, accuracies_train, accuracies_valid)"
   ]
  },
  {
   "cell_type": "markdown",
   "metadata": {},
   "source": [
    "# 78. Training on a GPU"
   ]
  },
  {
   "cell_type": "code",
   "execution_count": 75,
   "metadata": {},
   "outputs": [
    {
     "data": {
      "text/plain": [
       "False"
      ]
     },
     "execution_count": 75,
     "metadata": {},
     "output_type": "execute_result"
    }
   ],
   "source": [
    "torch.cuda.is_available()"
   ]
  },
  {
   "cell_type": "code",
   "execution_count": 76,
   "metadata": {},
   "outputs": [
    {
     "data": {
      "text/plain": [
       "device(type='cpu')"
      ]
     },
     "execution_count": 76,
     "metadata": {},
     "output_type": "execute_result"
    }
   ],
   "source": [
    "device = torch.device(\"cuda:4\" if torch.cuda.is_available() else \"cpu\")\n",
    "device"
   ]
  },
  {
   "cell_type": "code",
   "execution_count": 77,
   "metadata": {},
   "outputs": [],
   "source": [
    "torch.cuda.manual_seed_all(1)\n",
    "\n",
    "x_train = x_train.to(device)\n",
    "y_train = y_train.to(device)\n",
    "x_valid = x_valid.to(device)\n",
    "y_valid = y_valid.to(device)\n",
    "linear_nn = linear_nn.to(device)"
   ]
  },
  {
   "cell_type": "code",
   "execution_count": 78,
   "metadata": {},
   "outputs": [],
   "source": [
    "def _neural_network(model, x_train, y_train, x_valid, y_valid) -> None:\n",
    "    BATCH_SIZES = [1, 2, 4, 8, 16]\n",
    "    EPOCHS = 1\n",
    "    \n",
    "    for current_batch_size in BATCH_SIZES:\n",
    "\n",
    "        %%time\n",
    "\n",
    "        PATH = f\"data/{device}.batch_size{current_batch_size}.checkpoints.pt\"\n",
    "\n",
    "        losses_train = []\n",
    "        accuracies_train = []\n",
    "        losses_valid = []\n",
    "        accuracies_valid = []\n",
    "\n",
    "        loss_fn = nn.CrossEntropyLoss()\n",
    "        optimizer = torch.optim.SGD(model.parameters(), lr=1e-3)\n",
    "        torch_dataset = Data.TensorDataset(x_train, y_train)\n",
    "        loader = Data.DataLoader(dataset = torch_dataset,\n",
    "                                batch_size = current_batch_size,\n",
    "                                shuffle = True,\n",
    "                                pin_memory=True)\n",
    "\n",
    "        for epoch in range(EPOCHS):\n",
    "\n",
    "            loss_epoch, accuracy_epoch = _iterate_through_loader(optimizer, loader, loss_fn, model)\n",
    "\n",
    "            loss_epoch = loss_epoch / len(loader)\n",
    "            losses_train.append(loss_epoch)\n",
    "            losses_valid.append(_calculate_loss(x_valid, y_valid, loss_fn, model))\n",
    "\n",
    "            accuracies_train.append(np.mean(accuracy_epoch))\n",
    "            accuracies_valid.append(_calculate_accuracy(x_valid, y_valid, model))\n",
    "\n",
    "            _save_checkpoints(epoch, W, model, optimizer, PATH)\n",
    "\n",
    "            optimizer.step()\n",
    "        _display_epoch_data(current_batch_size, losses_train, losses_valid, accuracies_train, accuracies_valid)"
   ]
  },
  {
   "cell_type": "code",
   "execution_count": null,
   "metadata": {},
   "outputs": [],
   "source": [
    "_neural_network(linear_nn, x_train, y_train, x_valid, y_valid)"
   ]
  },
  {
   "cell_type": "markdown",
   "metadata": {},
   "source": [
    "# 79. Multilayer Neural Networks"
   ]
  },
  {
   "cell_type": "code",
   "execution_count": 81,
   "metadata": {},
   "outputs": [],
   "source": [
    "class TwoLayerNet(nn.Module):\n",
    "    def __init__(self, input_size, hidden_size, output_size):\n",
    "        super(TwoLayerNet, self).__init__()\n",
    "        self.twolayernet = nn.Sequential(\n",
    "            nn.Linear(input_size, hidden_size),\n",
    "            nn.ReLU(),\n",
    "            nn.Linear(hidden_size, output_size),\n",
    "        )\n",
    "\n",
    "    def forward(self, x):\n",
    "        y_pred = self.twolayernet(x)\n",
    "        return y_pred"
   ]
  },
  {
   "cell_type": "code",
   "execution_count": 84,
   "metadata": {},
   "outputs": [
    {
     "name": "stdout",
     "output_type": "stream",
     "text": [
      "CPU times: user 4 µs, sys: 2 µs, total: 6 µs\n",
      "Wall time: 9.06 µs\n",
      "BATCH_SIZE :  1\n",
      "\tLoss Train :  [1.3835650777658879]\n",
      "\tLoss Valid :  [1.3837693929672241]\n",
      "\tAccuracy Train :  [0.07682119205298013]\n",
      "\tAccuracy Valid :  [0.0815677966101695]\n",
      "\n",
      "CPU times: user 3 µs, sys: 1 µs, total: 4 µs\n",
      "Wall time: 8.11 µs\n",
      "BATCH_SIZE :  2\n",
      "\tLoss Train :  [1.3830283382870503]\n",
      "\tLoss Valid :  [1.383263111114502]\n",
      "\tAccuracy Train :  [0.07682119205298013]\n",
      "\tAccuracy Valid :  [0.0815677966101695]\n",
      "\n",
      "CPU times: user 2 µs, sys: 0 ns, total: 2 µs\n",
      "Wall time: 5.96 µs\n",
      "BATCH_SIZE :  4\n",
      "\tLoss Train :  [1.3829437517008538]\n",
      "\tLoss Valid :  [1.3831696510314941]\n",
      "\tAccuracy Train :  [0.07680084745762712]\n",
      "\tAccuracy Valid :  [0.0815677966101695]\n",
      "\n",
      "CPU times: user 2 µs, sys: 1e+03 ns, total: 3 µs\n",
      "Wall time: 6.91 µs\n",
      "BATCH_SIZE :  8\n",
      "\tLoss Train :  [1.3828436914136855]\n",
      "\tLoss Valid :  [1.3830764293670654]\n",
      "\tAccuracy Train :  [0.07680084745762712]\n",
      "\tAccuracy Valid :  [0.0815677966101695]\n",
      "\n",
      "CPU times: user 2 µs, sys: 1 µs, total: 3 µs\n",
      "Wall time: 7.15 µs\n",
      "BATCH_SIZE :  16\n",
      "\tLoss Train :  [1.3823928007129895]\n",
      "\tLoss Valid :  [1.3826532363891602]\n",
      "\tAccuracy Train :  [0.07687651331719128]\n",
      "\tAccuracy Valid :  [0.0815677966101695]\n",
      "\n"
     ]
    }
   ],
   "source": [
    "multi_linear_nn = TwoLayerNet(d, 300, L)\n",
    "optimizer = torch.optim.SGD(multi_linear_nn.parameters(), lr=1e-3)\n",
    "_neural_network(multi_linear_nn, x_train, y_train, x_valid, y_valid)"
   ]
  }
 ],
 "metadata": {
  "kernelspec": {
   "display_name": "Python 3",
   "language": "python",
   "name": "python3"
  },
  "language_info": {
   "codemirror_mode": {
    "name": "ipython",
    "version": 3
   },
   "file_extension": ".py",
   "mimetype": "text/x-python",
   "name": "python",
   "nbconvert_exporter": "python",
   "pygments_lexer": "ipython3",
   "version": "3.7.0"
  }
 },
 "nbformat": 4,
 "nbformat_minor": 2
}
