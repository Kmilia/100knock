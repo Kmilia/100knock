{
 "cells": [
  {
   "cell_type": "code",
   "execution_count": null,
   "metadata": {},
   "outputs": [],
   "source": [
    "_FILE_DIRECTORY = \"data/\"\n",
    "_MAIN_FILE_NAME = \"popular-names\"\n",
    "_FILE_EXTENSION = \".txt\"\n",
    "\n",
    "def _get_file_path(name: str = _MAIN_FILE_NAME) -> str:\n",
    "    return _FILE_DIRECTORY + name + _FILE_EXTENSION"
   ]
  },
  {
   "cell_type": "code",
   "execution_count": null,
   "metadata": {},
   "outputs": [
    {
     "data": {
      "text/plain": [
       "2780"
      ]
     },
     "execution_count": 7,
     "metadata": {},
     "output_type": "execute_result"
    }
   ],
   "source": [
    "### 10. Line count\n",
    "with open(_get_file_path()) as _file:\n",
    "    _line_count = len(_file.readlines())\n",
    "\n",
    "# UNIX COMMAND : wc -l data/popular-names.txt"
   ]
  },
  {
   "cell_type": "code",
   "execution_count": null,
   "metadata": {},
   "outputs": [],
   "source": [
    "### 11. Replace tabs into spaces\n",
    "with open(_get_file_path()) as _input_file:\n",
    "    with open(_get_file_path(\"tabs_into_spaces\"), \"w\") as _output_file:\n",
    "        for line in _input_file:\n",
    "            new_line = line.replace('\\t', ' ')\n",
    "            _output_file.write(new_line) \n",
    "# UNIX COMMAND : sed 's/\\t/ /g' data/popular-names.txt > data/popular-names-spaces.txt\""
   ]
  },
  {
   "cell_type": "code",
   "execution_count": null,
   "metadata": {},
   "outputs": [],
   "source": [
    "### 12. col1.txt from the first column, col2.txt from the second column\n",
    "with open(_get_file_path()) as _input_file:\n",
    "    with open(_get_file_path(\"col1\"), \"w\") as _col1_file, open(_get_file_path(\"col2\"), \"w\") as _col2_file:\n",
    "        for line in _input_file:\n",
    "            words_list = line.split('\\t')\n",
    "            _col1_file.write(f\"{words_list[0]}\\n\")\n",
    "            _col2_file.write(f\"{words_list[1]}\\n\") \n",
    "# UNIX COMMAND : cut -f 1 data/popular-names.txt > data/col1.txt & cut -f 2 data/popular-names.txt > data/col2.txt"
   ]
  },
  {
   "cell_type": "code",
   "execution_count": null,
   "metadata": {},
   "outputs": [],
   "source": [
    "### 13. Merging col1.txt and col2.txt\n",
    "_col1_list = _col2_list = \"\" \n",
    "  \n",
    "with open(_get_file_path(\"col1\")) as _col1_file: \n",
    "    _col1_list = _col1_file.read().split(\"\\n\")\n",
    "\n",
    "with open(_get_file_path(\"col2\")) as _col2_file: \n",
    "    _col2_list = _col2_file.read().split(\"\\n\")\n",
    "\n",
    "with open(_get_file_path(\"col1+2\"), \"w\") as _output_file:\n",
    "    _min_length = min(len(_col1_list), len(_col2_list))\n",
    "    for index in range(0, _min_length):\n",
    "        data = f\"{_col1_list[index]}\\t{_col2_list[index]}\\n\"\n",
    "        _output_file.write(data) \n",
    "\n",
    "# UNIX COMMAND : paste data/col1.txt data/col2.txt > data/col1+2.txt"
   ]
  },
  {
   "cell_type": "code",
   "execution_count": 1,
   "metadata": {},
   "outputs": [],
   "source": [
    "### 14. First N Lines\n",
    "import sys\n",
    "\n",
    "def _get_n_from_argv() -> int:\n",
    "    n = None\n",
    "    if len(sys.argv) >= 2:\n",
    "        n = sys.argv[1]\n",
    "\n",
    "    while type(n) is not int:\n",
    "        try:\n",
    "            n = int(n)\n",
    "        except ValueError:\n",
    "            n = input(\"Please insert the number of lines you want to extract: \")\n",
    "    return n\n",
    "\n",
    "_n = _get_n_from_argv()\n",
    "\n",
    "with open(_get_file_path()) as _input_file, open(_get_file_path(\"n_first_lines\"), \"w\") as _output_file:\n",
    "    for index in range(_n):\n",
    "        _output_file.write(next(_input_file))\n",
    "\n",
    "# UNIX COMMAND : N=5, head -n ${N} data/popular-names.txt > n_first_lines.txt"
   ]
  },
  {
   "cell_type": "code",
   "execution_count": null,
   "metadata": {},
   "outputs": [
    {
     "name": "stdout",
     "output_type": "stream",
     "text": [
      "Please insert the number of lines you want to extract: 5\n"
     ]
    }
   ],
   "source": [
    "### 15. Last N Lines\n",
    "_n = _get_n_from_argv()\n",
    "\n",
    "with open(_get_file_path()) as _input_file, open(_get_file_path(\"n_last_lines\"), \"w\") as _output_file:\n",
    "    lines = _input_file.readlines()\n",
    "    length = len(lines)-_n-1\n",
    "    for line in lines[length:]:\n",
    "        _output_file.write(line)\n",
    "\n",
    "# UNIX COMMAND : N=5, tail -n ${N} data/popular-names.txt > n_first_lines.txt"
   ]
  },
  {
   "cell_type": "code",
   "execution_count": null,
   "metadata": {},
   "outputs": [
    {
     "name": "stdout",
     "output_type": "stream",
     "text": [
      "Please insert the number of lines you want to extract: 6\n"
     ]
    }
   ],
   "source": [
    "### 16. Split a file into N piecesPermalink\n",
    "from math import floor\n",
    "\n",
    "_n = _get_n_from_argv()\n",
    "\n",
    "with open(_get_file_path()) as _input_file:\n",
    "    lines = _input_file.readlines()\n",
    "    file_length = len(lines)\n",
    "    nb_lines_per_file = floor(file_length/_n)\n",
    "\n",
    "    for index in range(_n):\n",
    "        with open(_get_file_path(f\"short_version_{index+1}\"), \"w\") as _output_file:\n",
    "            min_border = index*nb_lines_per_file\n",
    "            max_border = (index+1)*nb_lines_per_file\n",
    "            if index == _n-1:\n",
    "                max_border = file_length\n",
    "            for line in lines[min_border:max_border]:\n",
    "                 _output_file.write(line)\n",
    "\n",
    "# UNIX COMMAND : split -a 3 data/popular-names.txt"
   ]
  },
  {
   "cell_type": "code",
   "execution_count": null,
   "metadata": {},
   "outputs": [],
   "source": [
    "### 17. Distinct strings in the first column\n",
    "from collections import OrderedDict\n",
    "\n",
    "with open(_get_file_path(\"col1\")) as _input_file, open(_get_file_path(\"distinct_data\"), 'w') as _output_file:\n",
    "    _output_file.writelines(OrderedDict.fromkeys(_input_file)) \n",
    "\n",
    "# UNIX COMMAND : cut -f 1 data/popular-names.txt | sort | uniq > data/distinct_data.txt"
   ]
  },
  {
   "cell_type": "code",
   "execution_count": null,
   "metadata": {},
   "outputs": [],
   "source": [
    "### 18. Sort lines in descending order of the third column\n",
    "_column3_to_line = {}\n",
    "\n",
    "with open(_get_file_path()) as _input_file:\n",
    "    for line in _input_file:\n",
    "        words_list = line.split('\\t')\n",
    "        if int(words_list[2]) not in _column3_to_line:\n",
    "            _column3_to_line[int(words_list[2])] = line\n",
    "        else:\n",
    "            _column3_to_line[int(words_list[2])] += line\n",
    "    _column3_to_line = OrderedDict(sorted(_column3_to_line.items(), reverse=True))\n",
    "    \n",
    "with open(_get_file_path(\"names_sorted_by_col3\"), 'w') as _output_file:\n",
    "    for item in _column3_to_line.values():\n",
    "        _output_file.write(item)\n",
    "\n",
    "# UNIX COMMAND : sort -hrk3 -t \" \" data/tabs_into_spaces.txt -o data/sorted_names2.txt"
   ]
  },
  {
   "cell_type": "code",
   "execution_count": null,
   "metadata": {},
   "outputs": [],
   "source": [
    "### 19. Frequency of a string in the first column in descending order\n",
    "_names_to_frequence = {}\n",
    "\n",
    "with open(_get_file_path()) as _input_file:\n",
    "    for line in _input_file:\n",
    "        words_list = line.split('\\t')\n",
    "        if words_list[0] not in _names_to_frequence:\n",
    "            _names_to_frequence[words_list[0]] = [1, line]\n",
    "        else:\n",
    "            _names_to_frequence[words_list[0]][0] += 1\n",
    "            _names_to_frequence[words_list[0]][1] += line\n",
    "    _frequence_to_line = OrderedDict(sorted(_names_to_frequence.items(), key=lambda item: item[1], reverse=True))\n",
    "    \n",
    "        \n",
    "with open(_get_file_path(\"names_sorted_by_freq\"), 'w') as _output_file:\n",
    "    for line in _frequence_to_line.values():\n",
    "        _output_file.write(line[1])\n"
   ]
  },
  {
   "cell_type": "code",
   "execution_count": null,
   "metadata": {},
   "outputs": [],
   "source": []
  }
 ],
 "metadata": {
  "interpreter": {
   "hash": "aee8b7b246df8f9039afb4144a1f6fd8d2ca17a180786b69acc140d282b71a49"
  },
  "kernelspec": {
   "display_name": "Python 3",
   "language": "python",
   "name": "python3"
  },
  "language_info": {
   "codemirror_mode": {
    "name": "ipython",
    "version": 3
   },
   "file_extension": ".py",
   "mimetype": "text/x-python",
   "name": "python",
   "nbconvert_exporter": "python",
   "pygments_lexer": "ipython3",
   "version": "3.9.7"
  }
 },
 "nbformat": 4,
 "nbformat_minor": 2
}
